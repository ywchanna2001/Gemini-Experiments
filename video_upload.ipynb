{
 "cells": [
  {
   "cell_type": "code",
   "execution_count": 2,
   "metadata": {},
   "outputs": [],
   "source": [
    "import os\n",
    "from dotenv import load_dotenv\n",
    "\n",
    "# Load environment variables from .env file\n",
    "load_dotenv()\n",
    "\n",
    "# Access the API key\n",
    "GOOGLE_API_KEY = os.getenv(\"API_KEY\")"
   ]
  },
  {
   "cell_type": "code",
   "execution_count": 3,
   "metadata": {},
   "outputs": [
    {
     "name": "stdout",
     "output_type": "stream",
     "text": [
      "Waiting for video to be processed.\n",
      "Video processing complete: https://generativelanguage.googleapis.com/v1beta/files/g67wqxd5sn05\n"
     ]
    }
   ],
   "source": [
    "from google import genai\n",
    "from google.genai import types\n",
    "import time\n",
    "\n",
    "client = genai.Client(api_key=GOOGLE_API_KEY)\n",
    "\n",
    "def upload_video(video_file_name):\n",
    "  video_file = client.files.upload(file=video_file_name)  #sends local video file to Google\n",
    "\n",
    "  while video_file.state == \"PROCESSING\":\n",
    "      print('Waiting for video to be processed.')\n",
    "      time.sleep(10)\n",
    "      video_file = client.files.get(name=video_file.name)\n",
    "\n",
    "  if video_file.state == \"FAILED\":\n",
    "    raise ValueError(video_file.state)\n",
    "  print(f'Video processing complete: ' + video_file.uri)\n",
    "\n",
    "  return video_file\n",
    "\n",
    "GreatRedSpot_video = upload_video('GreatRedSpot.mp4')\n"
   ]
  },
  {
   "cell_type": "markdown",
   "metadata": {},
   "source": [
    "Prompt with a video and text"
   ]
  },
  {
   "cell_type": "code",
   "execution_count": 5,
   "metadata": {},
   "outputs": [
    {
     "data": {
      "text/markdown": [
       "Okay, here's a summary of the video and a quiz based on its content.\n",
       "\n",
       "**Video Summary**\n",
       "\n",
       "The video introduces Jupiter as the largest and oldest planet in our solar system, a 4.5-billion-year-old gas giant composed of elements similar to a star, though it never grew massive enough to ignite. Its appearance features colorful, swirling cloud bands caused by its interior gases and liquids, and most notably, the Great Red Spot. This iconic spot is a massive anticyclonic storm that has raged for over a century, aided by the lack of landmass to slow it down. Scientists observing the Great Red Spot have noted significant changes: it's shrinking, becoming rounder, and its color is deepening. Contrary to the expectation that a shrinking storm would spin faster (like an ice skater pulling in their arms), data from missions like Voyager, Hubble, and Juno reveals the storm isn't speeding up. Instead, it's actually getting *taller*, similar to how a potter shapes spinning clay upwards. While it used to be large enough to fit three Earths, it can now only contain slightly more than one. Further investigation is hoped to reveal more secrets about this mysterious storm.\n",
       "\n",
       "**Quiz on the Video Content**\n",
       "\n",
       "1.  According to the video, Jupiter is the ______ and ______ planet in our solar system.\n",
       "    a) Smallest, Youngest\n",
       "    b) Largest, Youngest\n",
       "    c) Largest, Oldest\n",
       "    d) Smallest, Oldest\n",
       "\n",
       "2.  Jupiter is primarily made of:\n",
       "    a) Rock and metal\n",
       "    b) Ice and dust\n",
       "    c) The same elements as a star\n",
       "    d) Liquid water\n",
       "\n",
       "3.  What is the Great Red Spot described as?\n",
       "    a) A large volcano\n",
       "    b) A gigantic storm (an anticyclone)\n",
       "    c) A continent floating in the clouds\n",
       "    d) An impact crater\n",
       "\n",
       "4.  Which of these changes *has* been observed in the Great Red Spot over time?\n",
       "    a) It is getting larger and flatter.\n",
       "    b) It is shrinking and getting rounder.\n",
       "    c) Its color is fading to white.\n",
       "    d) It has stopped spinning.\n",
       "\n",
       "5.  When scientists observed the Great Red Spot shrinking, what did they *initially expect* to happen to its wind speeds, based on the ice skater analogy?\n",
       "    a) They expected the winds to slow down.\n",
       "    b) They expected the winds to stay the same.\n",
       "    c) They expected the winds to increase (spin faster).\n",
       "    d) They expected the storm to disappear immediately.\n",
       "\n",
       "6.  What did data reveal is *actually* happening to the Great Red Spot as it shrinks horizontally?\n",
       "    a) It is spinning much faster.\n",
       "    b) It is getting significantly colder.\n",
       "    c) It is breaking apart into smaller storms.\n",
       "    d) It is getting taller.\n",
       "\n",
       "7.  The video uses an analogy to explain the Great Red Spot getting taller. What activity is shown in this analogy?\n",
       "    a) Ice Skating\n",
       "    b) Weaving a tapestry\n",
       "    c) Working with pottery on a wheel\n",
       "    d) Blowing glass\n",
       "\n",
       "8.  How has the size of the Great Red Spot changed relative to Earth?\n",
       "    a) It was always smaller than Earth.\n",
       "    b) It used to fit one Earth, now it fits three.\n",
       "    c) It used to fit three Earths, now it fits just over one.\n",
       "    d) Its size relative to Earth has not changed.\n",
       "\n",
       "9.  Which NASA missions were mentioned as sources of data for studying Jupiter and the Great Red Spot?\n",
       "    a) Apollo, Gemini, and Skylab\n",
       "    b) Voyager, Hubble, and Juno\n",
       "    c) Mars Rovers (Spirit, Opportunity, Curiosity)\n",
       "    d) Cassini and New Horizons\n",
       "\n",
       "---\n",
       "\n",
       "**Answer Key**\n",
       "\n",
       "1.  **c) Largest, Oldest**\n",
       "2.  **c) The same elements as a star**\n",
       "3.  **b) A gigantic storm (an anticyclone)**\n",
       "4.  **b) It is shrinking and getting rounder.** (Also acceptable: color deepening, but this option combines two mentioned changes).\n",
       "5.  **c) They expected the winds to increase (spin faster).**\n",
       "6.  **d) It is getting taller.**\n",
       "7.  **c) Working with pottery on a wheel**\n",
       "8.  **c) It used to fit three Earths, now it fits just over one.**\n",
       "9.  **b) Voyager, Hubble, and Juno**"
      ],
      "text/plain": [
       "<IPython.core.display.Markdown object>"
      ]
     },
     "execution_count": 5,
     "metadata": {},
     "output_type": "execute_result"
    }
   ],
   "source": [
    "from IPython.display import Markdown\n",
    "\n",
    "# Pass the video file reference like any other media part.\n",
    "response = client.models.generate_content(\n",
    "    model=\"gemini-2.5-pro-exp-03-25\",gemini-2.5-pro-exp-03-25\"\n",
    "    contents=[\n",
    "        GreatRedSpot_video,\n",
    "        \"Summarize this video. Then create a quiz with answer key \"\n",
    "        \"based on the information in the video.\"])\n",
    "\n",
    "# Print the response, rendering any Markdown\n",
    "Markdown(response.text)"
   ]
  },
  {
   "cell_type": "code",
   "execution_count": 6,
   "metadata": {},
   "outputs": [
    {
     "name": "stdout",
     "output_type": "stream",
     "text": [
      "My files:\n",
      "  files/g67wqxd5sn05: https://generativelanguage.googleapis.com/v1beta/files/g67wqxd5sn05\n",
      "  files/1v11uh7w6iux: https://generativelanguage.googleapis.com/v1beta/files/1v11uh7w6iux\n",
      "  files/ttc53pvwa0mk: https://generativelanguage.googleapis.com/v1beta/files/ttc53pvwa0mk\n",
      "  files/sm9ly0w9vapw: https://generativelanguage.googleapis.com/v1beta/files/sm9ly0w9vapw\n",
      "  files/dtimwr0gfu85: https://generativelanguage.googleapis.com/v1beta/files/dtimwr0gfu85\n",
      "  files/jk3k8848eslf: https://generativelanguage.googleapis.com/v1beta/files/jk3k8848eslf\n"
     ]
    }
   ],
   "source": [
    "print('My files:')\n",
    "for f in client.files.list():\n",
    "  print(\" \", f'{f.name}: {f.uri}')"
   ]
  },
  {
   "cell_type": "code",
   "execution_count": null,
   "metadata": {},
   "outputs": [],
   "source": []
  }
 ],
 "metadata": {
  "kernelspec": {
   "display_name": "Gemini",
   "language": "python",
   "name": "python3"
  },
  "language_info": {
   "codemirror_mode": {
    "name": "ipython",
    "version": 3
   },
   "file_extension": ".py",
   "mimetype": "text/x-python",
   "name": "python",
   "nbconvert_exporter": "python",
   "pygments_lexer": "ipython3",
   "version": "3.9.21"
  }
 },
 "nbformat": 4,
 "nbformat_minor": 2
}
