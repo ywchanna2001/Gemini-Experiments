{
  "nbformat": 4,
  "nbformat_minor": 0,
  "metadata": {
    "colab": {
      "provenance": [],
      "authorship_tag": "ABX9TyNL7Fu/3DbN1JIAQe8b3gBL",
      "include_colab_link": true
    },
    "kernelspec": {
      "name": "python3",
      "display_name": "Python 3"
    },
    "language_info": {
      "name": "python"
    }
  },
  "cells": [
    {
      "cell_type": "markdown",
      "metadata": {
        "id": "view-in-github",
        "colab_type": "text"
      },
      "source": [
        "<a href=\"https://colab.research.google.com/github/ywchanna2001/Gemini-Experiments/blob/main/Video_Understanding.ipynb\" target=\"_parent\"><img src=\"https://colab.research.google.com/assets/colab-badge.svg\" alt=\"Open In Colab\"/></a>"
      ]
    },
    {
      "cell_type": "code",
      "execution_count": 11,
      "metadata": {
        "colab": {
          "base_uri": "https://localhost:8080/",
          "height": 336
        },
        "id": "I2Wig0Kx0kAj",
        "outputId": "ce7d7fd9-1e0a-4a08-f555-e12d3bfc8bb1"
      },
      "outputs": [
        {
          "output_type": "display_data",
          "data": {
            "text/plain": [
              "<IPython.core.display.HTML object>"
            ],
            "text/html": [
              "<iframe width=\"560\" height=\"315\" src=\"https://www.youtube.com/embed/Mot-JEU26GQ?si=pcb7-_MZTSi_1Zkw\" title=\"YouTube video player\" frameborder=\"0\" allow=\"accelerometer; autoplay; clipboard-write; encrypted-media; gyroscope; picture-in-picture; web-share\" referrerpolicy=\"strict-origin-when-cross-origin\" allowfullscreen></iframe>\n"
            ]
          },
          "metadata": {}
        }
      ],
      "source": [
        "#@title Building with Gemini 2.0: Video understanding\n",
        "%%html\n",
        "<iframe width=\"560\" height=\"315\" src=\"https://www.youtube.com/embed/Mot-JEU26GQ?si=pcb7-_MZTSi_1Zkw\" title=\"YouTube video player\" frameborder=\"0\" allow=\"accelerometer; autoplay; clipboard-write; encrypted-media; gyroscope; picture-in-picture; web-share\" referrerpolicy=\"strict-origin-when-cross-origin\" allowfullscreen></iframe>"
      ]
    },
    {
      "cell_type": "code",
      "source": [
        "# Install SDK\n",
        "%pip install -U -q 'google-genai'"
      ],
      "metadata": {
        "id": "hiJ-mp520tn1"
      },
      "execution_count": 12,
      "outputs": []
    },
    {
      "cell_type": "code",
      "source": [
        "from google.colab import userdata\n",
        "GOOGLE_API_KEY=userdata.get('GOOGLE_API_KEY')"
      ],
      "metadata": {
        "id": "JRHFAUjy1dq0"
      },
      "execution_count": 13,
      "outputs": []
    },
    {
      "cell_type": "markdown",
      "source": [
        "Initialize SDK client"
      ],
      "metadata": {
        "id": "1JzcJheC1zBc"
      }
    },
    {
      "cell_type": "code",
      "source": [
        "from google import genai\n",
        "from google.genai import types\n",
        "\n",
        "client = genai.Client(api_key=GOOGLE_API_KEY)"
      ],
      "metadata": {
        "id": "vWbbdL2k1rZU"
      },
      "execution_count": 14,
      "outputs": []
    },
    {
      "cell_type": "markdown",
      "source": [
        "Selecting a Gemini Model"
      ],
      "metadata": {
        "id": "E21_H-xP2MSc"
      }
    },
    {
      "cell_type": "code",
      "source": [
        "model_name = \"gemini-2.5-pro-exp-03-25\" # @param [\"gemini-1.5-flash-latest\",\"gemini-2.0-flash-lite\",\"gemini-2.0-flash\",\"gemini-2.5-pro-exp-03-25\"] {\"allow-input\":true, isTemplate: true}"
      ],
      "metadata": {
        "id": "X7aeGjHz2KSC"
      },
      "execution_count": 15,
      "outputs": []
    },
    {
      "cell_type": "markdown",
      "source": [
        "Get sample videos"
      ],
      "metadata": {
        "id": "Ndb_j4Ko2eUl"
      }
    },
    {
      "cell_type": "code",
      "source": [
        "# Load sample images\n",
        "!wget https://storage.googleapis.com/generativeai-downloads/videos/Pottery.mp4 -O Pottery.mp4 -q\n",
        "!wget https://storage.googleapis.com/generativeai-downloads/videos/Jukin_Trailcam_Videounderstanding.mp4 -O Trailcam.mp4 -q\n",
        "!wget https://storage.googleapis.com/generativeai-downloads/videos/post_its.mp4 -O Post_its.mp4 -q\n",
        "!wget https://storage.googleapis.com/generativeai-downloads/videos/user_study.mp4 -O User_study.mp4 -q"
      ],
      "metadata": {
        "id": "OhSWEtcp2SEi"
      },
      "execution_count": 16,
      "outputs": []
    },
    {
      "cell_type": "markdown",
      "source": [
        "Upload the videos"
      ],
      "metadata": {
        "id": "sPlBP-bK2qtr"
      }
    },
    {
      "cell_type": "code",
      "source": [
        "import time\n",
        "\n",
        "def upload_video(video_file_name):\n",
        "  video_file = client.files.upload(file=video_file_name)\n",
        "\n",
        "  while video_file.state == \"PROCESSING\":\n",
        "      print('Waiting for video to be processed.')\n",
        "      time.sleep(10)\n",
        "      video_file = client.files.get(name=video_file.name)\n",
        "\n",
        "  if video_file.state == \"FAILED\":\n",
        "    raise ValueError(video_file.state)\n",
        "  print(f'Video processing complete: ' + video_file.uri)\n",
        "\n",
        "  return video_file\n",
        "\n",
        "pottery_video = upload_video('Pottery.mp4')\n",
        "trailcam_video = upload_video('Trailcam.mp4')\n",
        "post_its_video = upload_video('Post_its.mp4')\n",
        "user_study_video = upload_video('User_study.mp4')"
      ],
      "metadata": {
        "colab": {
          "base_uri": "https://localhost:8080/"
        },
        "id": "2Ay4pd1F2jyG",
        "outputId": "ede145a0-1c4a-4b65-feb4-c3920b40de5c"
      },
      "execution_count": 17,
      "outputs": [
        {
          "output_type": "stream",
          "name": "stdout",
          "text": [
            "Waiting for video to be processed.\n",
            "Video processing complete: https://generativelanguage.googleapis.com/v1beta/files/jk3k8848eslf\n",
            "Waiting for video to be processed.\n",
            "Video processing complete: https://generativelanguage.googleapis.com/v1beta/files/dtimwr0gfu85\n",
            "Waiting for video to be processed.\n",
            "Video processing complete: https://generativelanguage.googleapis.com/v1beta/files/sm9ly0w9vapw\n",
            "Waiting for video to be processed.\n",
            "Video processing complete: https://generativelanguage.googleapis.com/v1beta/files/ttc53pvwa0mk\n"
          ]
        }
      ]
    },
    {
      "cell_type": "markdown",
      "source": [
        "Imports"
      ],
      "metadata": {
        "id": "h8GEI8M35ARM"
      }
    },
    {
      "cell_type": "code",
      "source": [
        "import json\n",
        "from PIL import Image\n",
        "from IPython.display import display, Markdown, HTML"
      ],
      "metadata": {
        "id": "6DjF_QWl2vcC"
      },
      "execution_count": 18,
      "outputs": []
    },
    {
      "cell_type": "markdown",
      "source": [
        "Search within the video"
      ],
      "metadata": {
        "id": "ZBrPw7p85LK2"
      }
    },
    {
      "cell_type": "code",
      "source": [
        "prompt = \"Organize all scenes from this video in a table, along with timecode, a short description, a list of objects visible in the scene (with representative emojis) and an estimation of the level of excitement on a scale of 1 to 10\"  # @param [\"For each scene in this video, generate captions that describe the scene along with any spoken text placed in quotation marks. Place each caption into an object with the timecode of the caption in the video.\", \"Organize all scenes from this video in a table, along with timecode, a short description, a list of objects visible in the scene (with representative emojis) and an estimation of the level of excitement on a scale of 1 to 10\"] {\"allow-input\":true}\n",
        "\n",
        "video = trailcam_video # @param [\"trailcam_video\", \"pottery_video\", \"post_its_video\", \"user_study_video\"] {\"type\":\"raw\",\"allow-input\":true}\n",
        "\n",
        "response = client.models.generate_content(\n",
        "    model=model_name,\n",
        "    contents=[\n",
        "        video,\n",
        "        prompt,\n",
        "    ]\n",
        ")\n",
        "\n",
        "Markdown(response.text)"
      ],
      "metadata": {
        "colab": {
          "base_uri": "https://localhost:8080/",
          "height": 1000
        },
        "id": "-gXnkmUn5ELb",
        "outputId": "42f04e05-0919-4d1e-e799-5c5c605b7f78"
      },
      "execution_count": 20,
      "outputs": [
        {
          "output_type": "execute_result",
          "data": {
            "text/plain": [
              "<IPython.core.display.Markdown object>"
            ],
            "text/markdown": "Okay, here is a table organizing the scenes from the video, including timecodes, descriptions, visible objects with emojis, and an estimated excitement level.\n\n| Timecode | Description | Visible Objects | Excitement Level (1-10) |\n|---|---|---|---|\n| 00:00 | Camera view obscured by fur, then clears. Two gray foxes appear in a rocky, leafy area, sniffing around. One jumps onto a rock. | Gray Fox 🦊, Rocks 🪨, Trees/Shrubs 🌳, Leaves 🍂, Ground/Dirt 🌱 | 4 |\n| 00:17 | Night vision (B&W): A mountain lion sniffs the ground in a wooded area, looks around, and walks away. | Mountain Lion 🐆, Trees/Shrubs 🌳, Leaves 🍂, Ground/Dirt 🌱 | 6 |\n| 00:34 | Night vision: Two gray foxes interact. One digs while the other watches, then pounces playfully/aggressively. They scatter, bumping the camera. | Gray Fox 🦊 (x2), Trees/Shrubs 🌳, Leaves 🍂, Ground/Dirt 🌱 | 7 |\n| 00:50 | Night vision: Two gray foxes scramble over rocks, interact briefly, and move away. | Gray Fox 🦊 (x2), Rocks 🪨, Trees/Shrubs 🌳, Ground/Dirt 🌱 | 5 |\n| 01:04 | Night vision: A mountain lion stands alert near rocks, then slowly walks away up a slope. | Mountain Lion 🐆, Rocks 🪨, Trees/Shrubs 🌳, Ground/Dirt 🌱 | 5 |\n| 01:17 | Night vision: An adult mountain lion walks past, closely followed by a cub. | Mountain Lion (Adult) 🐆, Mountain Lion (Cub) 🐾, Rocks 🪨, Trees/Shrubs 🌳, Ground/Dirt 🌱 | 8 |\n| 01:29 | Night vision: A bobcat stands alert, looking towards the camera and sniffing the ground. | Bobcat 😼, Trees/Shrubs 🌳, Leaves 🍂, Ground/Dirt 🌱 | 6 |\n| 01:51 | Daytime: A large black bear walks through the woods towards the camera, then turns and walks away. | Black Bear 🐻, Trees/Shrubs 🌳, Leaves 🍂, Ground/Dirt 🌱 | 7 |\n| 01:56 | Night vision: A mountain lion walks past the camera. | Mountain Lion 🐆, Trees/Shrubs 🌳, Leaves 🍂, Ground/Dirt 🌱 | 5 |\n| 02:04 | Daytime: Camera is bumped by fur, then clears to show two bear cubs exploring and foraging. | Black Bear Cub 🐻🐾 (x2), Trees/Shrubs 🌳, Leaves 🍂, Ground/Dirt 🌱 | 7 |\n| 02:23 | Night vision: A gray fox explores a rocky ledge overlooking distant city lights. | Gray Fox 🦊, Rocks 🪨, Grass/Shrubs 🌱, City Lights 🌃 | 5 |\n| 02:35 | Night vision: A black bear appears on the same rocky ledge, sniffing the ground where the fox was. | Black Bear 🐻, Rocks 🪨, Grass/Shrubs 🌱, City Lights 🌃 | 6 |\n| 02:42 | Night vision: A mountain lion walks onto the same rocky ledge overlooking the city. | Mountain Lion 🐆, Rocks 🪨, Grass/Shrubs 🌱, City Lights 🌃 | 7 |\n| 02:52 | Night vision: A mountain lion scent-marks against a tree. | Mountain Lion 🐆, Tree Trunk 🌳, Leaves 🍂, Ground/Dirt 🌱 | 6 |\n| 03:05 | Daytime: An adult black bear stands alert, making mouth movements. Another bear passes very close. | Black Bear (Adult) 🐻, Black Bear (Young?) 🐻🐾, Trees/Shrubs 🌳, Leaves 🍂, Ground/Dirt 🌱 | 8 |\n| 03:22 | Daytime: A cinnamon-colored black bear stands alert and sniffs the ground. | Black Bear (Cinnamon phase) 🐻, Trees/Shrubs 🌳, Leaves 🍂, Ground/Dirt 🌱 | 7 |\n| 03:32 | Daytime: The cinnamon mother bear is joined by three cubs. They forage, she seems alert. One cub scratches itself. They eventually walk off together. | Black Bear (Mother, Cinnamon) 🐻, Black Bear Cubs 🐻🐾 (x3), Trees/Shrubs 🌳, Leaves 🍂, Ground/Dirt 🌱 | 9 |\n| 04:03 | Daytime: Two young bears (cubs/yearlings) forage together and approach the camera. | Black Bear Cubs/Yearlings 🐻🐾 (x2), Trees/Shrubs 🌳, Leaves 🍂, Ground/Dirt 🌱 | 7 |\n| 04:22 | Night vision: A bobcat sits, looks around, then walks over a fallen log. | Bobcat 😼, Trees/Shrubs 🌳, Fallen Log🪵, Ground/Dirt 🌱 | 5 |\n| 04:30 | Night vision: Two gray foxes make brief, alert appearances before running off. | Gray Fox 🦊 (x2), Trees/Shrubs 🌳, Fallen Log🪵, Ground/Dirt 🌱 | 4 |\n| 04:57 | Night vision: A mountain lion sniffs the ground near a mound/log, looks around, and walks away. | Mountain Lion 🐆, Tree Trunk 🌳, Leaves 🍂, Ground/Dirt 🌱, Log/Mound 🪵 | 5 |"
          },
          "metadata": {},
          "execution_count": 20
        }
      ]
    },
    {
      "cell_type": "code",
      "source": [
        "prompt = \"Transcribe the sticky notes, organize them and put it in a table. Can you come up with a few more ideas?\" # @param [\"Transcribe the sticky notes, organize them and put it in a table. Can you come up with a few more ideas?\", \"Which of those names who fit an AI product that can resolve complex questions using its thinking abilities?\"] {\"allow-input\":true}\n",
        "\n",
        "video = post_its_video # @param [\"trailcam_video\", \"pottery_video\", \"post_its_video\", \"user_study_video\"] {\"type\":\"raw\",\"allow-input\":true}\n",
        "\n",
        "response = client.models.generate_content(\n",
        "    model=model_name,\n",
        "    contents=[\n",
        "        video,\n",
        "        prompt,\n",
        "    ]\n",
        ")\n",
        "\n",
        "Markdown(response.text)"
      ],
      "metadata": {
        "colab": {
          "base_uri": "https://localhost:8080/",
          "height": 814
        },
        "id": "u4RMxFmt8bEi",
        "outputId": "404707c5-0620-44c2-9250-861af206dc29"
      },
      "execution_count": 21,
      "outputs": [
        {
          "output_type": "execute_result",
          "data": {
            "text/plain": [
              "<IPython.core.display.Markdown object>"
            ],
            "text/markdown": "Okay, here are the transcribed project names from the sticky notes, organized into a table, followed by a few new suggestions based on the apparent themes (astronomy, mythology, science/math concepts).\n\n**Transcribed Project Names from Sticky Notes**\n\n|                    |                     |                     |\n| :----------------- | :------------------ | :------------------ |\n| Aether             | Convergence         | Lynx                |\n| Andromeda's Reach  | Delphinus           | Lyra                |\n| Astral Forge       | Draco               | Medusa              |\n| Athena             | Echo                | Odin                |\n| Athena's Eye       | Equilibrium         | Orion's Belt        |\n| Bayes Theorem*     | Euler's Path        | Orion's Sword       |\n| Canis Major        | Fractal             | Pandora's Box       |\n| Centaurus          | Galactic Core       | Persius Shield      |\n| Cerberus           | Golden Ratio        | Phoenix             |\n| Celestial Drift    | Hera                | Prometheus Rising   |\n| Chaos Field        | Infinity Loop       | Riemann's Hypothesis|\n| Chaos Theory       | Leo Minor           | Sagitta             |\n| Chimera Dream      | Lunar Eclipse       | Serpens             |\n| Comet's Tail       | Stellar Nexus       | Stokes Theorem      |\n|                    | Supernova Echo      | Symmetry            |\n|                    | Taylor Series       | Titan               |\n|                    | Vector              | Zephyr              |\n\n*(Note: One sticky note appears to read \"Bayes Therorem\", likely a misspelling of \"Theorem\")*\n\n**New Project Name Ideas (Following Themes)**\n\n1.  **Event Horizon:** (Astronomy/Physics) - The boundary around a black hole, sounds cool and cutting-edge.\n2.  **Asgard:** (Mythology - Norse) - The realm of the gods, powerful and evocative.\n3.  **Singularity:** (Physics/Math) - A point of infinite density/complexity, often related to black holes or the Big Bang.\n4.  **Quantum Leap:** (Physics/Concept) - Implies a sudden, significant advance or change.\n5.  **Cygnus X-1:** (Astronomy) - A well-known galactic X-ray source, widely accepted to be a black hole.\n6.  **Paradigm Shift:** (Concept) - A fundamental change in approach or underlying assumptions."
          },
          "metadata": {},
          "execution_count": 21
        }
      ]
    },
    {
      "cell_type": "code",
      "source": [],
      "metadata": {
        "id": "NQhcQMzY_Bz7"
      },
      "execution_count": null,
      "outputs": []
    }
  ]
}